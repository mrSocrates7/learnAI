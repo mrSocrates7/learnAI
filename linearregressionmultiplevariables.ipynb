{
  "cells": [
    {
      "cell_type": "markdown",
      "metadata": {
        "id": "zJgwPKXaG79z"
      },
      "source": [
        "# Regression Model with multiple variables\n",
        "- Input variable : x = [x1,x2,x3]\n",
        "- Original output : y\n",
        "- Number of training examples : m\n",
        "- weights & bias : w1,w2,w3,b\n",
        "- learning rate : α\n",
        "- Model $f_{\\vec w,b}(\\vec x) = \\vec w .\\vec x+b$\n",
        "- Cost Function (MSE) $J(\\vec w,b) = \\frac{1}{2m}\\sum_{i=1}^m(f_{\\vec w,b}(x^i)-y^i)^2$\n",
        "- Minimizing cost function using gradient descent\n",
        "  - Compute gradients\n",
        "    - $\\frac{\\partial J}{\\partial w}$ = $\\frac{1}{m}\\sum_{i=1}^m(f_{w,b}(x)^i - y^i)x^i$\n",
        "    - $\\frac{\\partial J}{\\partial b}$ = $\\frac{1}{m}\\sum_{i=1}^m(f_{w,b}(x)^i - y^i)$\n",
        "  - Update Parameters\n",
        "    - w = w - α$\\\\frac{\\partial J}{\\partial w} = w - α[\\frac{1}{m}\\sum_{i=1}^m(f_{w,b}(x)^i - y^i)x^i]$\n",
        "    - b = b - α$\\frac{\\partial J}{\\partial b} = b - α[\\frac{1}{m}\\sum_{i=1}^m(f_{w,b}(x)^i - y^i)]$\n"
      ],
      "id": "zJgwPKXaG79z"
    },
    {
      "cell_type": "markdown",
      "source": [
        "# Data Set\n",
        "- tv_ad_budget x1 = [230.1, 44.5, 17.2, 151.5, 180.8, 8.7, 57.5, 120.2, 8.6, 199.8]\n",
        "- radio_ad_budget x2 = [37.8, 39.3, 45.9, 41.3, 10.8, 48.9, 32.8, 19.6, 2.1, 2.6]\n",
        "- newspaper_ad_budget x3 = [69.2, 45.1, 69.3, 58.5, 58.4, 75, 23.5, 11.6, 1, 21.2]\n",
        "- sales_of_product y = [22.1, 10.4, 12, 16.5, 17.9, 7.2, 11.8, 13.2, 4.8, 15.6]"
      ],
      "metadata": {
        "id": "yXtI47KtLZgd"
      },
      "id": "yXtI47KtLZgd"
    },
    {
      "cell_type": "markdown",
      "source": [
        "## Notation\n",
        "Here is a summary of some of the notation\n",
        "\n",
        "|General <img width=70/> <br />  Notation  <img width=70/> | Description<img width=350/>| Python (if applicable) |\n",
        "|: ------------|: ------------------------------------------------------------||\n",
        "| $a$ | scalar, non bold                                                      ||\n",
        "| $\\mathbf{a}$ | vector, bold                                                 ||\n",
        "| $\\mathbf{A}$ | matrix, bold capital                                         ||\n",
        "| **Regression** |         |    |     |\n",
        "|  $\\mathbf{X}$ | training example matrix                  | `X_train` |   \n",
        "|  $\\mathbf{y}$  | training example  targets                | `y_train`\n",
        "|  $\\mathbf{x}^{(i)}$, $y^{(i)}$ | $i_{th}$Training Example | `X[i]`, `y[i]`|\n",
        "| m | number of training examples | `m`|\n",
        "| n | number of features in each example | `n`|\n",
        "|  $\\mathbf{w}$  |  parameter: weight,                       | `w`    |\n",
        "|  $b$           |  parameter: bias                                           | `b`    |     \n",
        "| $f_{\\mathbf{w},b}(\\mathbf{x}^{(i)})$ | The result of the model evaluation at $\\mathbf{x^{(i)}}$ parameterized by $\\mathbf{w},b$: $f_{\\mathbf{w},b}(\\mathbf{x}^{(i)}) = \\mathbf{w} \\cdot \\mathbf{x}^{(i)}+b$  | `f_wb` |"
      ],
      "metadata": {
        "id": "mewNZZqvNP0p"
      },
      "id": "mewNZZqvNP0p"
    },
    {
      "cell_type": "code",
      "source": [
        "import numpy as np\n",
        "import matplotlib.pyplot as plt\n",
        "import math\n",
        "\n",
        "X_train = np.array([[230.1,37.8,69.2],[44.5,39.3,45.1],[17.2,45.9,69.3],[151.5,41.3,58.5],[180.8,10.8,58.4],[8.7,48.9,75],[57.5,32.8,23.5],[120.2,19.6,11.6],[8.6,2.1,1],[199.8,2.6,21.2]])\n",
        "y_train = np.array([22.1, 10.4, 12, 16.5, 17.9, 7.2, 11.8, 13.2, 4.8, 15.6])\n",
        "\n",
        "print(f\"x_train = {X_train}\")\n",
        "print(f\"y_train = {y_train}\")\n",
        "\n",
        "m = X_train.shape[0]\n",
        "print(f\"Number of training examples is: {m}\")"
      ],
      "metadata": {
        "id": "bcoIGS_ZNgQD",
        "outputId": "694b12e4-821e-493d-a26e-4809df4ec361",
        "colab": {
          "base_uri": "https://localhost:8080/"
        }
      },
      "id": "bcoIGS_ZNgQD",
      "execution_count": 10,
      "outputs": [
        {
          "output_type": "stream",
          "name": "stdout",
          "text": [
            "x_train = [[230.1  37.8  69.2]\n",
            " [ 44.5  39.3  45.1]\n",
            " [ 17.2  45.9  69.3]\n",
            " [151.5  41.3  58.5]\n",
            " [180.8  10.8  58.4]\n",
            " [  8.7  48.9  75. ]\n",
            " [ 57.5  32.8  23.5]\n",
            " [120.2  19.6  11.6]\n",
            " [  8.6   2.1   1. ]\n",
            " [199.8   2.6  21.2]]\n",
            "y_train = [22.1 10.4 12.  16.5 17.9  7.2 11.8 13.2  4.8 15.6]\n",
            "Number of training examples is: 10\n"
          ]
        }
      ]
    },
    {
      "cell_type": "code",
      "source": [
        "# data is stored in numpy array/matrix\n",
        "print(f\"X Shape: {X_train.shape}, X Type:{type(X_train)})\")\n",
        "print(X_train)\n",
        "print(f\"y Shape: {y_train.shape}, y Type:{type(y_train)})\")\n",
        "print(y_train)"
      ],
      "metadata": {
        "id": "vhnf_EQkraLj",
        "outputId": "230c05c3-682e-4202-b967-e9d2064f63f1",
        "colab": {
          "base_uri": "https://localhost:8080/"
        }
      },
      "id": "vhnf_EQkraLj",
      "execution_count": 9,
      "outputs": [
        {
          "output_type": "stream",
          "name": "stdout",
          "text": [
            "X Shape: (10, 3), X Type:<class 'numpy.ndarray'>)\n",
            "[[230.1  37.8  69.2]\n",
            " [ 44.5  39.3  45.1]\n",
            " [ 17.2  45.9  69.3]\n",
            " [151.5  41.3  58.5]\n",
            " [180.8  10.8  58.4]\n",
            " [  8.7  48.9  75. ]\n",
            " [ 57.5  32.8  23.5]\n",
            " [120.2  19.6  11.6]\n",
            " [  8.6   2.1   1. ]\n",
            " [199.8   2.6  21.2]]\n",
            "y Shape: (10,), y Type:<class 'numpy.ndarray'>)\n",
            "[22.1 10.4 12.  16.5 17.9  7.2 11.8 13.2  4.8 15.6]\n"
          ]
        }
      ]
    },
    {
      "cell_type": "code",
      "source": [
        "# Setting model parameters\n",
        "w = [0.1,0.1,0.1]\n",
        "b = 0.1\n",
        "print(f\"w: {w}\")\n",
        "print(f\"b: {b}\")"
      ],
      "metadata": {
        "id": "oRV_deJ8PHrF",
        "outputId": "449437d9-90c7-43e9-ce11-4f304667702e",
        "colab": {
          "base_uri": "https://localhost:8080/"
        }
      },
      "id": "oRV_deJ8PHrF",
      "execution_count": 27,
      "outputs": [
        {
          "output_type": "stream",
          "name": "stdout",
          "text": [
            "w: [0.1, 0.1, 0.1]\n",
            "b: 0.1\n"
          ]
        }
      ]
    },
    {
      "cell_type": "code",
      "source": [
        "# method to compute model output for one training example\n",
        "def compute_model_output(x, w, b):\n",
        "    n = x.shape[0]\n",
        "    p = 0\n",
        "    for i in range(n):\n",
        "        p+= w[i] * x[i]\n",
        "    p+=b\n",
        "    return p\n",
        "def compute_model_output_vec(x, w, b):\n",
        "    return np.dot(x, w) + b"
      ],
      "metadata": {
        "id": "B9OMF1CcPTaB"
      },
      "id": "B9OMF1CcPTaB",
      "execution_count": 19,
      "outputs": []
    },
    {
      "cell_type": "code",
      "source": [
        "# pass the x_train, w, b to the model and compute the sales from model\n",
        "tmp_f_wb = compute_model_output(X_train[0], w, b)\n",
        "print(f\"Output from model: {tmp_f_wb}\")\n",
        "tmp_f_wb_vec = compute_model_output_vec(X_train[0], w, b)\n",
        "print(f\"Output from model: {tmp_f_wb_vec}\")"
      ],
      "metadata": {
        "id": "uRQbQYtQPpKa",
        "outputId": "dcf6ff59-8dc6-4e28-de14-b041b990d585",
        "colab": {
          "base_uri": "https://localhost:8080/"
        }
      },
      "id": "uRQbQYtQPpKa",
      "execution_count": 20,
      "outputs": [
        {
          "output_type": "stream",
          "name": "stdout",
          "text": [
            "Output from model: 33.81\n",
            "Output from model: 33.81\n"
          ]
        }
      ]
    },
    {
      "cell_type": "code",
      "source": [
        "# Computing cost\n",
        "def compute_cost(X, y, w, b):\n",
        "    m = X.shape[0]\n",
        "    cost=0\n",
        "    for i in range(m):\n",
        "      f_wb_i = np.dot(X[i],w) + b\n",
        "      cost = cost + (f_wb_i - y[i])**2\n",
        "    total_cost = 1 / (2 * m) * cost\n",
        "    return total_cost"
      ],
      "metadata": {
        "id": "jH83aaY_ZyOw"
      },
      "id": "jH83aaY_ZyOw",
      "execution_count": 33,
      "outputs": []
    },
    {
      "cell_type": "code",
      "source": [
        "print(f\"Cost at w: {w}, b: {b} is {compute_cost(X_train, y_train, w, b)}\")"
      ],
      "metadata": {
        "id": "hQqYfFW2b-WU",
        "outputId": "21bc737f-ea32-48b6-a202-5654773b6035",
        "colab": {
          "base_uri": "https://localhost:8080/"
        }
      },
      "id": "hQqYfFW2b-WU",
      "execution_count": 34,
      "outputs": [
        {
          "output_type": "stream",
          "name": "stdout",
          "text": [
            "Cost at w: [0.1, 0.1, 0.1], b: 0.1 is 18.770540000000018\n"
          ]
        }
      ]
    },
    {
      "cell_type": "code",
      "source": [
        "# Compute gradients\n",
        "def compute_gradient(X,y,w,b):\n",
        "  m,n = X.shape\n",
        "  dj_dw = np.zeros((n,))\n",
        "  dj_db = 0\n",
        "\n",
        "  for i in range(m):\n",
        "    err = (np.dot(X[i], w) + b) - y[i]\n",
        "    for j in range(n):\n",
        "      dj_dw[j] = dj_dw[j] + err * X[i,j]\n",
        "    dj_db = dj_db + err\n",
        "  dj_dw = dj_dw / m\n",
        "  dj_db = dj_db / m\n",
        "\n",
        "  return dj_dw, dj_db"
      ],
      "metadata": {
        "id": "shO5DURBcLfi"
      },
      "id": "shO5DURBcLfi",
      "execution_count": 53,
      "outputs": []
    },
    {
      "cell_type": "code",
      "source": [
        "# Gradient descent implementation\n",
        "def gradient_descent(X, y, w_in, b_in, alpha, num_iters, cost_function, gradient_function):\n",
        "  J_history=[]\n",
        "  p_history=[]\n",
        "  b = b_in\n",
        "  w = w_in\n",
        "  J_history.append(cost_function(X,y,w,b))\n",
        "\n",
        "  for i in range(num_iters):\n",
        "      dj_dw, dj_db = compute_gradient(X,y,w,b)\n",
        "      b = b - alpha * dj_db\n",
        "      w = w - alpha * dj_dw\n",
        "      if i<1000000:\n",
        "        J_history.append(cost_function(X,y,w,b))\n",
        "      # Print cost every at intervals 10 times or as many iterations if < 10\n",
        "      if i% math.ceil(num_iters/10) == 0:\n",
        "        print(f\"Iteration {i:4d}: Cost {J_history[-1]} \")\n",
        "\n",
        "  return w, b, J_history"
      ],
      "metadata": {
        "id": "Z7R7mnY3c_xD"
      },
      "id": "Z7R7mnY3c_xD",
      "execution_count": 54,
      "outputs": []
    },
    {
      "cell_type": "code",
      "source": [
        "w_init = np.array([0.1,0.1,0.1])\n",
        "b_init = 0.1\n",
        "iterations = 1000000\n",
        "tmp_alpha = 0.00001\n",
        "\n",
        "w_final, b_final, J_hist = gradient_descent(X_train, y_train, w_init, b_init, tmp_alpha, iterations, compute_cost, compute_gradient)\n",
        "print(f\"(w,b) found by gradient descent: ({w_final},{b_final})\")"
      ],
      "metadata": {
        "id": "XN5MSopTfPVs",
        "outputId": "97d00eaf-742c-4b15-bffa-88e838c710f6",
        "colab": {
          "base_uri": "https://localhost:8080/"
        }
      },
      "id": "XN5MSopTfPVs",
      "execution_count": 74,
      "outputs": [
        {
          "output_type": "stream",
          "name": "stdout",
          "text": [
            "Iteration    0: Cost 13.453396817512388 \n",
            "Iteration 100000: Cost 1.7543376124715977 \n",
            "Iteration 200000: Cost 1.516050905276707 \n",
            "Iteration 300000: Cost 1.3357783596684198 \n",
            "Iteration 400000: Cost 1.1993956336546172 \n",
            "Iteration 500000: Cost 1.0962171496975128 \n",
            "Iteration 600000: Cost 1.0181588804221844 \n",
            "Iteration 700000: Cost 0.9591049656079913 \n",
            "Iteration 800000: Cost 0.9144285349459047 \n",
            "Iteration 900000: Cost 0.8806291930566502 \n",
            "(w,b) found by gradient descent: ([0.06291495 0.09512767 0.01332352],3.3400565875650057)\n"
          ]
        }
      ]
    },
    {
      "cell_type": "code",
      "source": [
        "# plot cost versus iteration\n",
        "fig, (ax1, ax2) = plt.subplots(1, 2, constrained_layout=True, figsize=(12,4))\n",
        "ax1.plot(J_hist[:100])\n",
        "ax2.plot(1000 + np.arange(len(J_hist[1000:])), J_hist[1000:])\n",
        "ax1.set_title(\"Cost vs. iteration(start)\");  ax2.set_title(\"Cost vs. iteration (end)\")\n",
        "ax1.set_ylabel('Cost')            ;  ax2.set_ylabel('Cost')\n",
        "ax1.set_xlabel('iteration step')  ;  ax2.set_xlabel('iteration step')\n",
        "plt.show()"
      ],
      "metadata": {
        "id": "jWyIU5oIlz9a",
        "outputId": "960cbf9e-8ac5-499a-f987-4f0ee9d6687e",
        "colab": {
          "base_uri": "https://localhost:8080/",
          "height": 428
        }
      },
      "id": "jWyIU5oIlz9a",
      "execution_count": 60,
      "outputs": [
        {
          "output_type": "display_data",
          "data": {
            "text/plain": [
              "<Figure size 1200x400 with 2 Axes>"
            ],
            "image/png": "[encoded data removed]"
          },
          "metadata": {}
        }
      ]
    },
    {
      "cell_type": "code",
      "source": [
        "w = np.array([0.05912871,0.07275394,0.01555315])\n",
        "b = 4.40712211756168\n",
        "\n",
        "x = np.array([151.5,41.3,58.5])\n",
        "y = 16.5\n",
        "\n",
        "print(compute_cost(X_train, y_train, w, b))\n",
        "print(compute_model_output(x, w, b))"
      ],
      "metadata": {
        "id": "gMWE72eimELd",
        "outputId": "db449309-c9c1-497e-f867-2ab74dd58cb5",
        "colab": {
          "base_uri": "https://localhost:8080/"
        }
      },
      "id": "gMWE72eimELd",
      "execution_count": 77,
      "outputs": [
        {
          "output_type": "stream",
          "name": "stdout",
          "text": [
            "0.7756015026522047\n",
            "17.27971867956168\n"
          ]
        }
      ]
    }
  ],
  "metadata": {
    "kernelspec": {
      "display_name": "Python 3",
      "language": "python",
      "name": "python3"
    },
    "language_info": {
      "codemirror_mode": {
        "name": "ipython",
        "version": 3
      },
      "file_extension": ".py",
      "mimetype": "text/x-python",
      "name": "python",
      "nbconvert_exporter": "python",
      "pygments_lexer": "ipython3",
      "version": "3.7.6"
    },
    "colab": {
      "provenance": [],
      "toc_visible": true
    }
  },
  "nbformat": 4,
  "nbformat_minor": 5
}