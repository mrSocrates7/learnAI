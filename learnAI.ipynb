{
  "cells": [
    {
      "cell_type": "markdown",
      "metadata": {},
      "source": [
        "# My New Jupyter Notebook\n",
        "This is a new markdown cell in the notebook."
      ]
    }
  ],
  "metadata": {},
  "nbformat": 4,
  "nbformat_minor": 2
}
