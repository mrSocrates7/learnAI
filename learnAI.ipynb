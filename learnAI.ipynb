{
  "cells": [
    {
      "cell_type": "markdown",
      "source": [
        "# Machine Learning\n",
        "#### Field of study that gives machines the ability to learn without being explicitly programmed"
      ],
      "metadata": {
        "id": "gvFB7aa5TvFJ"
      }
    },
    {
      "cell_type": "markdown",
      "source": [
        "## Machine Learning Algorithms:\n",
        "- Supervised Learning Algorithms\n",
        "- Unsupervised Learning Algorithms\n",
        "- Recommender Systems\n",
        "- Reinforcement Learning Algorithms"
      ],
      "metadata": {
        "id": "6ms_8ygXTiPG"
      }
    },
    {
      "cell_type": "markdown",
      "source": [
        "## Supervised Learning Algorithms:\n",
        "- Algorithms that learn from input, output labels and then predict the output for a given new input\n",
        "- Example:\n",
        "  - Email(Input) -> spam or not (Output) : Spam filtering\n",
        "  - Image & Radar Info (Input) -> position of other cars (Output) : Self driving cars\n",
        "- Types of Supervised Learning\n",
        "  - Regression : *Predicting a number from infinitely many possible ouputs*\n",
        "  - Classification : *Predicting a category*\n",
        "\n",
        "## Unsupervised Learning Algorithms:\n",
        "- Algorithms that find something interesting in unlabeled data\n",
        "- Types of Unsupervised Learning Algorithms\n",
        "  - Clustering\n",
        "  - Association Rules\n",
        "  - DImensionality reduction : Compress data using fewer numbers"
      ],
      "metadata": {
        "id": "rwLcezsYT8qX"
      }
    },
    {
      "cell_type": "markdown",
      "source": [
        "# Supervised Learning Algorithms:\n",
        "## Regression Model : Predicting numbers\n",
        "### Linear Regression with one Variable:\n",
        "- Suppose we have existing data of x, y where for different values of x, the value of y changes\n",
        "- Example : based on the size of the flat area, rent of the house varies. And we have historical data for 10 different sizes, the rent values. Now for a given new input of size, the model has to predict the relevant rent.\n",
        "- Terminology\n",
        "  - Data used to train model (historical data) -> training set\n",
        "  - Input variable or feature -> x\n",
        "  - Original Output variable or target -> y\n",
        "  - Number of training examples -> m\n",
        "  - Single training example will be (x,y)\n",
        "- Now we have to choose a linear function (since this is linear regression) which can be used to predict the y values for a given x\n",
        "- Let the linear Function *f(x) = wx + b*\n",
        "- We have to find best values of *w* and *b*, using which the predicted y value will be closed to the actual data when training\n",
        "- For a given x input, the output value that the function predicts is called *y-hat*\n",
        "\n",
        "#### Finding the values of *w* and *b*\n",
        "##### Cost Function\n",
        "- A cost function evaluates how well the model's prediction matches wtih the actual data.\n",
        "- It quantifies the error between the predicted value and the actual value\n",
        "- The goal of learning algorithm is to minimize this cost function, thereby improving the accuracy of the model\n",
        "- Commonly used Cost functions for Regression\n",
        " - Mean Squared Error : *Measures the average of the squared differences between predicted and actual values*\n",
        " - Mean Absolute Error : *Measures the average of the absolute differences between precited and actual values*\n",
        " - Huber Loss : *Combines the properties of MSE and MAE*\n",
        " - Mean Squared Logarithmic Error\n",
        "\n",
        "**We'll use Mean Squared Error Cost Function here**\n",
        "\n",
        "#### Mean Squared Error Cost Function\n",
        "\n"
      ],
      "metadata": {
        "id": "IaQsRJdiVnws"
      }
    }
  ],
  "metadata": {
    "colab": {
      "provenance": [],
      "toc_visible": true
    },
    "language_info": {
      "name": "python"
    },
    "kernelspec": {
      "name": "python3",
      "display_name": "Python 3"
    }
  },
  "nbformat": 4,
  "nbformat_minor": 0
}