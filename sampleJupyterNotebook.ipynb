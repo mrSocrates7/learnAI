{
  "cells": [
    {
      "cell_type": "markdown",
      "source": [
        "# Sample for creating jupyternotebook in github"
      ],
      "metadata": {
        "id": "4S2U5Z56Q-T4"
      }
    }
  ],
  "metadata": {
    "colab": {
      "name": "Welcome To Colab",
      "toc_visible": true,
      "provenance": []
    },
    "kernelspec": {
      "display_name": "Python 3",
      "name": "python3"
    }
  },
  "nbformat": 4,
  "nbformat_minor": 0
}