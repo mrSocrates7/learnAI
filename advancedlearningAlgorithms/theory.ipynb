{
  "cells": [
    {
      "cell_type": "markdown",
      "metadata": {
        "id": "Wf5KrEb6vrkR"
      },
      "source": [
        "# Advanced Learning Algorithms\n",
        "- Neural networks\n",
        "  - inference (prediction)\n",
        "  - training\n",
        "- Practical advice for building ML systems\n",
        "- Decision Trees\n"
      ]
    },
    {
      "cell_type": "markdown",
      "source": [
        "## Neural Networks\n",
        "- Attempt to mimic how the human brain functions\n",
        "- Re-branded in 2005 as Deep Learning\n",
        "- Applied in - Speech Recognition, Computer vision, Natural Language Processing etc\n",
        "- The neural networks depends on the amount of data available. The more the data, the better will be the neural network performance\n",
        "- Small, Medium, Large neural networks\n",
        "- Example : Predicting if a t-shirt is going to be top-selling or not based on a single factor price\n",
        "  - x --> Input\n",
        "  - a = Activation = f(x) = $\\frac{1}{1+e^{-(wx+b)}}$ --> Output\n",
        "  - this logistic regression model can be a single neuron in the overall neural network with multiple other models working collectively\n",
        "- Complex example : Predicting if a t-shirt is going to be top-selling or not with price, shipping cost, marketing, material as inputs\n",
        "  - Affordability --> Price, Shipping cost --> one neuron\n",
        "  - Awareness --> Marketing --> one neuron\n",
        "  - Perceived Quality --> Material --> one neuron\n",
        "  - It is not a strict rule that price, shipping cost are inputs to only first neuron. All data can be input to all neurons in the next layer and then the neuron will decide which feature or value to use\n",
        "  - $Input Layer (\\vec X) ⇒ hidden layer ⇒ (\\vec a) ⇒ Output layer ⇒ Finaloutput(a)$\n"
      ],
      "metadata": {
        "id": "YVzA9ggWtxBZ"
      }
    },
    {
      "cell_type": "markdown",
      "source": [
        "## Neural Network Model\n",
        "- Fundamental building block of nerual network is layer of neural network layer or layer of neurons\n",
        "- layer 0 --> layer 1 --> layer 2 --> layer 3 --> layer 4\n",
        "- $\\vec a^{[1]}$ --> vector a represents the ouput of a layer and [1] represents the layer number\n",
        "- $a_j^{[l]}=g(\\vec w_j^{[l]}.\\vec a_j^{[l-1]}+b_j^{[l]})$\n",
        "  - w,b parameters of layer l, unit/neuron j\n",
        "  - a is the input from previous layer l-1\n",
        "  - Sigmoid activation function\n",
        "\n"
      ],
      "metadata": {
        "id": "cxyMv1Iw6E8e"
      }
    },
    {
      "cell_type": "markdown",
      "source": [
        "## Inference : Making predictions (Forward propagation)\n",
        "- Let's suppose we have one input layer, 3 hidden layers and one output layer\n",
        "- $\\vec X$ is the input layer : layer 0\n",
        "- Layer 1 : Let's suppose there are 10 neurons in this layer taking $\\vec X$ as input. Then the equations for z in this layer will be\n",
        "  - $\\vec W_1^{[1]}.\\vec X + b_1^{[1]}$ ........ $\\vec W_{10}^{[1]}.\\vec X + b_{10}^{[1]}$\n",
        "  - outputs $\\vec a^{[1]}$\n",
        "- Layer 2\n",
        "  - number of neurons 4\n",
        "  - input $\\vec a^{[1]}$\n",
        "  - equations\n",
        "    - $\\vec W_1^{[2]}.\\vec a^{[1]} + b_1^{[2]}$ ........ $\\vec W_4^{[2]}.\\vec a^{[1]} + b_4^{[2]}$\n",
        "  - outputs $\\vec a^{[2]}$\n",
        "- Layer 3\n",
        "  - number of neurons 2\n",
        "  - input $\\vec a^{[2]}$\n",
        "  - equations\n",
        "    - $\\vec W_1^{[3]}.\\vec a^{[2]} + b_1^{[3]}$ and $\\vec W_2^{[3]}.\\vec a^{[2]} + b_2^{[3]}$\n",
        "  - outputs $\\vec a^{[3]}$\n",
        "- Layer 4 - output layer\n",
        "  - number of neurons 1\n",
        "  - input $\\vec a^{[3]}$\n",
        "  - equations\n",
        "    - $\\vec W^{[4]}.\\vec a^{[3]} + b^{[4]}$\n",
        "  - outputs $a^{[4]}$"
      ],
      "metadata": {
        "id": "odakk56EiFlB"
      }
    }
  ],
  "metadata": {
    "colab": {
      "name": "Theory",
      "toc_visible": true,
      "provenance": []
    },
    "kernelspec": {
      "display_name": "Python 3",
      "name": "python3"
    }
  },
  "nbformat": 4,
  "nbformat_minor": 0
}