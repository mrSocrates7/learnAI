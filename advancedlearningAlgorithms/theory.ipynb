{
  "cells": [
    {
      "cell_type": "markdown",
      "metadata": {
        "id": "Wf5KrEb6vrkR"
      },
      "source": [
        "# Advanced Learning Algorithms\n",
        "- Neural networks\n",
        "  - inference (prediction)\n",
        "  - training\n",
        "- Practical advice for building ML systems\n",
        "- Decision Trees\n"
      ]
    },
    {
      "cell_type": "markdown",
      "source": [
        "## Neural Networks\n",
        "- Attempt to mimic how the human brain functions\n",
        "- Re-branded in 2005 as Deep Learning\n",
        "- Applied in - Speech Recognition, Computer vision, Natural Language Processing etc\n",
        "- The neural networks depends on the amount of data available. The more the data, the better will be the neural network performance\n",
        "- Small, Medium, Large neural networks\n",
        "- Example : Predicting if a t-shirt is going to be top-selling or not based on a single factor price\n",
        "  - x --> Input\n",
        "  - a = Activation = f(x) = $\\frac{1}{1+e^{-(wx+b)}}$ --> Output\n",
        "  - this logistic regression model can be a single neuron in the overall neural network with multiple other models working collectively\n",
        "- Complex example : Predicting if a t-shirt is going to be top-selling or not with price, shipping cost, marketing, material as inputs\n",
        "  - Affordability --> Price, Shipping cost --> one neuron\n",
        "  - Awareness --> Marketing --> one neuron\n",
        "  - Perceived Quality --> Material --> one neuron\n",
        "  - It is not a strict rule that price, shipping cost are inputs to only first neuron. All data can be input to all neurons in the next layer\n",
        "  - ![Alt text](demand prediction.png)\n"
      ],
      "metadata": {
        "id": "YVzA9ggWtxBZ"
      }
    }
  ],
  "metadata": {
    "colab": {
      "name": "Theory",
      "toc_visible": true,
      "provenance": []
    },
    "kernelspec": {
      "display_name": "Python 3",
      "name": "python3"
    }
  },
  "nbformat": 4,
  "nbformat_minor": 0
}