{
  "cells": [
    {
      "cell_type": "markdown",
      "source": [
        "# Unsupervised Learning, Recommenders, Reinforcement Learning\n",
        "\n",
        "## Unsupervised Learning\n",
        "- Clustering\n",
        "- Anomaly detection\n",
        "\n",
        "## Recommender systems\n",
        "- For example the adivertisements use recommender systems to show adds based on audience preferences\n",
        "\n",
        "## Reinforcement Learning\n",
        "- new and has less commercially implemented\n"
      ],
      "metadata": {
        "id": "4S2U5Z56Q-T4"
      }
    },
    {
      "cell_type": "markdown",
      "source": [
        "## Clustering\n",
        "- In unsupervised learning we only have inputs but no output labels\n",
        "- Used to find interesting structure of the data and if data can be grouped into clusters\n",
        "- Applications\n",
        "  - Grouping similar news\n",
        "  - Market segmentation\n",
        "  - DNA Analysis\n",
        "  - Astronomical data analysis\n",
        "\n",
        "## K-means clustering algorithm\n",
        "- takes random guess of centers of the groups of clusters called cluster centroids\n",
        "- Go through the data and check to which centroid the data is closer to and map to them\n",
        "- recompute the centroids by taking the average of the distance from all points mapped to them\n",
        "- re check to which centroid the data is closer to and map to them\n",
        "- repeat until there are no changes or the algorithm is converged\n"
      ],
      "metadata": {
        "id": "PGSPJ2Kx6TcP"
      }
    }
  ],
  "metadata": {
    "colab": {
      "name": "SampleJupyterNotebook",
      "provenance": []
    },
    "kernelspec": {
      "display_name": "Python 3",
      "name": "python3"
    }
  },
  "nbformat": 4,
  "nbformat_minor": 0
}