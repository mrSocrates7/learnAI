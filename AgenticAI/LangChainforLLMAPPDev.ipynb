{
  "cells": [
    {
      "cell_type": "markdown",
      "source": [
        "# LangChain for LLM Application Development\n",
        "\n",
        "#### Components of Langchain\n",
        "- Models : Language models\n",
        "- Prompts\n",
        "- Indexes/Parsers\n",
        "- Chains\n",
        "- Agents"
      ],
      "metadata": {
        "id": "4S2U5Z56Q-T4"
      }
    },
    {
      "cell_type": "code",
      "source": [
        "# pip install --upgrade langchain\n",
        "\n",
        "from langchain.chat_models import ChatOpenAI\n",
        "\n",
        "chat = ChatOpenAI(temperature=0, model_name=\"gpt-3.5-turbo\")\n"
      ],
      "metadata": {
        "id": "VmFDoddU9fi6"
      },
      "execution_count": null,
      "outputs": []
    },
    {
      "cell_type": "markdown",
      "source": [
        "#### Memory\n",
        "-"
      ],
      "metadata": {
        "id": "AUMkoYno3aaU"
      }
    }
  ],
  "metadata": {
    "colab": {
      "name": "SampleJupyterNotebook",
      "toc_visible": true,
      "provenance": []
    },
    "kernelspec": {
      "display_name": "Python 3",
      "name": "python3"
    }
  },
  "nbformat": 4,
  "nbformat_minor": 0
}