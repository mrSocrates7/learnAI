{
  "cells": [
    {
      "cell_type": "markdown",
      "source": [
        "# Retrieval Augmented Generation - RAG\n",
        "\n",
        "- RAG is a technique in AI where a large language model accesses new or recent data outside its training set to provide better answers and improved results\n",
        "- Embeddings are the representations of text data as vectors in a high-dimensional space\n"
      ],
      "metadata": {
        "id": "4S2U5Z56Q-T4"
      }
    },
    {
      "cell_type": "code",
      "source": [
        "# Manage data for embeddings\n",
        "\n",
        "import pandas as pd\n",
        "\n",
        "df = pd.read_csv('data/top_rated_wines.csv')\n",
        "df.head()\n",
        "df.describe()\n",
        "\n",
        "# format to dictionary\n",
        "df.to_dict(orient='records')\n",
        "df.to_dict('records')\n",
        "\n"
      ],
      "metadata": {
        "id": "3hTYWaQDFi46"
      },
      "execution_count": null,
      "outputs": []
    }
  ],
  "metadata": {
    "colab": {
      "name": "SampleJupyterNotebook",
      "toc_visible": true,
      "provenance": []
    },
    "kernelspec": {
      "display_name": "Python 3",
      "name": "python3"
    }
  },
  "nbformat": 4,
  "nbformat_minor": 0
}